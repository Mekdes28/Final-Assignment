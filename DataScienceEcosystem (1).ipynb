{
 "cells": [
  {
   "cell_type": "markdown",
   "id": "e6d8aab9",
   "metadata": {},
   "source": [
    "# Data Science Tools and Ecosystem"
   ]
  },
  {
   "cell_type": "markdown",
   "id": "e9477fa6",
   "metadata": {},
   "source": [
    "## In this notebook, Data Science Tools and Ecosystem are summarized."
   ]
  },
  {
   "cell_type": "markdown",
   "id": "828b2da1",
   "metadata": {},
   "source": [
    "Some of the popular languages that Data Scientists use are: <br>\n",
    "1. python <br>\n",
    "2. R <br>\n",
    "3. SQL <br>"
   ]
  },
  {
   "cell_type": "markdown",
   "id": "1beba50b",
   "metadata": {},
   "source": [
    "Some of the commonly used libraries used by Data Scientists include:<br>\n",
    "1. pytorch\n",
    "2. tenserflow\n",
    "3. NumPy\n",
    "4. Pandas"
   ]
  },
  {
   "cell_type": "markdown",
   "id": "616692ec",
   "metadata": {},
   "source": [
    "# Data Science Tools <br>\n",
    "| __Open sourced tools in data science__| \n",
    "| ---   |\n",
    "| jupyter|\n",
    "| ---   |\n",
    "| Apache Spark |\n",
    "| ---   |\n",
    "| Hadhoop|\n",
    "\n",
    "\n",
    "\n",
    "\n"
   ]
  },
  {
   "cell_type": "markdown",
   "id": "ecc2329f",
   "metadata": {},
   "source": [
    "### Below are a few examples of evaluating arithmetic expressions in Python ###"
   ]
  },
  {
   "cell_type": "code",
   "execution_count": 1,
   "id": "48b187b2",
   "metadata": {},
   "outputs": [
    {
     "name": "stdout",
     "output_type": "stream",
     "text": [
      "17\n"
     ]
    }
   ],
   "source": [
    "# This a simple arithmetic expression to mutiply then add integers\n",
    "print ((3*4)+5)"
   ]
  },
  {
   "cell_type": "code",
   "execution_count": 2,
   "id": "abde3338",
   "metadata": {},
   "outputs": [
    {
     "name": "stdout",
     "output_type": "stream",
     "text": [
      "3.3333333333333335\n"
     ]
    }
   ],
   "source": [
    "# This will convert 200 minutes to hours by diving by 60\n",
    "print (200/60)"
   ]
  },
  {
   "cell_type": "markdown",
   "id": "7c69cf91",
   "metadata": {},
   "source": [
    "__Objectives__ <br>\n",
    "- List popular languages for Data Science. <br>\n",
    "- List popular libraries for Data Science.<br>\n",
    "- List popular Tools for Data Science . <br>\n",
    "-  Write a Code Using Jupyter notebook. \n"
   ]
  },
  {
   "cell_type": "markdown",
   "id": "52139561",
   "metadata": {},
   "source": [
    "## Author ## <br>\n",
    "Mekdes Tadese Abebe"
   ]
  },
  {
   "cell_type": "code",
   "execution_count": null,
   "id": "ab6b224d",
   "metadata": {},
   "outputs": [],
   "source": []
  }
 ],
 "metadata": {
  "kernelspec": {
   "display_name": "Python 3 (ipykernel)",
   "language": "python",
   "name": "python3"
  },
  "language_info": {
   "codemirror_mode": {
    "name": "ipython",
    "version": 3
   },
   "file_extension": ".py",
   "mimetype": "text/x-python",
   "name": "python",
   "nbconvert_exporter": "python",
   "pygments_lexer": "ipython3",
   "version": "3.9.7"
  }
 },
 "nbformat": 4,
 "nbformat_minor": 5
}
